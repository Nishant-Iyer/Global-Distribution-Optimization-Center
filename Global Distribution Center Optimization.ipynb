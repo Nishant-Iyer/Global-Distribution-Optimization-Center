{
 "cells": [
  {
   "cell_type": "markdown",
   "id": "559a4b82-fc6b-4963-9742-8be152ca9fe6",
   "metadata": {},
   "source": [
    "## Introduction:\n",
    "This notebook demonstrates how to determine optimal locations for distribution centers (DCs) worldwide using population data from the largest cities. The objective is to place DCs as close as possible to the majority of the population, reducing logistical costs and improving service efficiency. We will:\n",
    "- Find a single DC location closest to the global population.\n",
    "- Use clustering to identify optimal locations for multiple DCs."
   ]
  },
  {
   "cell_type": "markdown",
   "id": "f183a146-8794-4d5d-b670-c0a5e74e9d91",
   "metadata": {},
   "source": [
    "## Data Source\n",
    "- **City Wise Population Website**: 'https://worldpopulationreview.com/cities'\n",
    "- **Details**: Contains city names, countries, populations, latitudes, and longitudes for the top 1000 cities by population (assumed 2023 data).\n",
    "- **Requirement Check**: Meets \"no less than 750, largest cities\" with populations >750,000."
   ]
  },
  {
   "cell_type": "markdown",
   "id": "8ae33f33-78bd-4b1c-94c2-aef2036e1388",
   "metadata": {},
   "source": [
    "## Objective:\n",
    "- **Single DC:** Find the latitude and longitude of one distribution center that minimizes the sum of great-circle distances to each city, weighted by the city's population.\n",
    "- **Multiple DCs:** Determine the optimal number of DCs and their locations by clustering cities and minimizing the total population-weighted distance to the nearest DC, using the elbow method to select the number of DCs."
   ]
  },
  {
   "cell_type": "code",
   "execution_count": 2,
   "id": "9d243812-473b-46ea-92b4-6b5d5a80ab91",
   "metadata": {},
   "outputs": [],
   "source": [
    "import pandas as pd\n",
    "import numpy as np\n",
    "import fuzzywuzzy\n",
    "import os\n",
    "os.environ['OMP_NUM_THREADS'] = '4'\n",
    "from fuzzywuzzy import process\n",
    "from scipy.optimize import minimize\n",
    "from sklearn.cluster import KMeans\n",
    "import matplotlib.pyplot as plt"
   ]
  },
  {
   "cell_type": "code",
   "execution_count": 4,
   "id": "0b985f4d",
   "metadata": {},
   "outputs": [
    {
     "name": "stdout",
     "output_type": "stream",
     "text": [
      "Dataset Info:\n",
      "<class 'pandas.core.frame.DataFrame'>\n",
      "RangeIndex: 47653 entries, 0 to 47652\n",
      "Data columns (total 5 columns):\n",
      " #   Column      Non-Null Count  Dtype  \n",
      "---  ------      --------------  -----  \n",
      " 0   city        47653 non-null  object \n",
      " 1   country     47653 non-null  object \n",
      " 2   population  47653 non-null  object \n",
      " 3   latitude    47653 non-null  float64\n",
      " 4   longitude   47653 non-null  float64\n",
      "dtypes: float64(2), object(3)\n",
      "memory usage: 1.8+ MB\n",
      "None\n",
      "\n",
      "First few rows:\n",
      "        city    country    population  latitude  longitude\n",
      "0      Tokyo      Japan   37,732,000    35.6897   139.6922\n",
      "1    Jakarta  Indonesia   33,756,000    -6.1750   106.8275\n",
      "2      Delhi      India   32,226,000    28.6100    77.2300\n",
      "3  Guangzhou      China   26,940,000    23.1300   113.2600\n",
      "4     Mumbai      India   24,973,000    19.0761    72.8775\n",
      "\n",
      "Missing values:\n",
      "city          0\n",
      "country       0\n",
      "population    0\n",
      "latitude      0\n",
      "longitude     0\n",
      "dtype: int64\n"
     ]
    }
   ],
   "source": [
    "# Load the combined dataset\n",
    "df = pd.read_csv('final_dataset.csv')\n",
    "\n",
    "# Verify the dataset\n",
    "print(\"Dataset Info:\")\n",
    "print(df.info())\n",
    "print(\"\\nFirst few rows:\")\n",
    "print(df.head())\n",
    "\n",
    "# Check for missing values\n",
    "print(\"\\nMissing values:\")\n",
    "print(df.isnull().sum())\n",
    "\n",
    "# Ensure no missing coordinates or population data\n",
    "df = df.dropna(subset=['population', 'latitude', 'longitude'])"
   ]
  },
  {
   "cell_type": "markdown",
   "id": "02dd6176",
   "metadata": {},
   "source": [
    "### Compute One DC Location (Part 1)\n",
    "To find the single DC location closest to the global population, we calculate the population-weighted centroid using Cartesian coordinates, then select the nearest city."
   ]
  },
  {
   "cell_type": "code",
   "execution_count": 6,
   "id": "fbe9a0eb",
   "metadata": {},
   "outputs": [],
   "source": [
    "# Prevent memory leak warning on Windows with MKL\n",
    "os.environ['OMP_NUM_THREADS'] = '4'\n",
    "\n",
    "# Load dataset\n",
    "df = pd.read_csv('final_dataset.csv')\n",
    "\n",
    "# Convert 'population' column to numeric (remove commas if necessary)\n",
    "df['population'] = pd.to_numeric(df['population'].str.replace(',', ''), errors='coerce')\n",
    "\n",
    "# Select top 1000 cities by population\n",
    "df = df.nlargest(1000, 'population')\n",
    "\n",
    "# Convert latitude and longitude to radians\n",
    "df['lat_rad'] = np.radians(df['latitude'])\n",
    "df['lon_rad'] = np.radians(df['longitude'])\n",
    "\n",
    "# Compute 3D Cartesian coordinates\n",
    "df['X'] = np.cos(df['lat_rad']) * np.cos(df['lon_rad'])\n",
    "df['Y'] = np.cos(df['lat_rad']) * np.sin(df['lon_rad'])\n",
    "df['Z'] = np.sin(df['lat_rad'])"
   ]
  },
  {
   "cell_type": "markdown",
   "id": "821f2d47-5f1b-487e-ae3f-b970e802a53c",
   "metadata": {},
   "source": [
    "## Single DC Optimization\n",
    "We calculate the population-weighted centroid in 3D Cartesian coordinates and find the closest city using the Haversine distance formula."
   ]
  },
  {
   "cell_type": "code",
   "execution_count": 8,
   "id": "68c2eee9-8288-4da2-ad7c-927c7fc4e374",
   "metadata": {},
   "outputs": [
    {
     "name": "stdout",
     "output_type": "stream",
     "text": [
      "Single DC: Narayanganj, Bangladesh\n",
      "Centroid: Lat 24.2459, Lon 92.4267\n",
      "Distance to centroid: 207.81 km\n",
      "Population within 1000 km: 2.91%\n"
     ]
    }
   ],
   "source": [
    "# Haversine distance function\n",
    "def haversine(lon1, lat1, lon2, lat2):\n",
    "    lon1, lat1, lon2, lat2 = map(np.radians, [lon1, lat1, lon2, lat2])\n",
    "    dlon = lon2 - lon1\n",
    "    dlat = lat2 - lat1\n",
    "    a = np.sin(dlat/2)**2 + np.cos(lat1) * np.cos(lat2) * np.sin(dlon/2)**2\n",
    "    c = 2 * np.arcsin(np.sqrt(a))\n",
    "    r = 6371  # Earth's radius in km\n",
    "    return c * r\n",
    "\n",
    "# Single DC: Population-weighted centroid\n",
    "total_pop = df['population'].sum()\n",
    "X_centroid = (df['population'] * df['X']).sum() / total_pop\n",
    "Y_centroid = (df['population'] * df['Y']).sum() / total_pop\n",
    "Z_centroid = (df['population'] * df['Z']).sum() / total_pop\n",
    "lon_centroid = np.degrees(np.arctan2(Y_centroid, X_centroid))\n",
    "lat_centroid = np.degrees(np.arcsin(Z_centroid))\n",
    "\n",
    "# Calculate distance from centroid to each city\n",
    "df['distance_to_centroid'] = df.apply(\n",
    "    lambda row: haversine(lon_centroid, lat_centroid, row['longitude'], row['latitude']),\n",
    "    axis=1\n",
    ")\n",
    "\n",
    "# Find closest city\n",
    "closest_city = df.loc[df['distance_to_centroid'].idxmin()]\n",
    "within_1000km = df[df['distance_to_centroid'] <= 1000]['population'].sum() / total_pop * 100\n",
    "\n",
    "print(f\"Single DC: {closest_city['city']}, {closest_city['country']}\")\n",
    "print(f\"Centroid: Lat {lat_centroid:.4f}, Lon {lon_centroid:.4f}\")\n",
    "print(f\"Distance to centroid: {closest_city['distance_to_centroid']:.2f} km\")\n",
    "print(f\"Population within 1000 km: {within_1000km:.2f}%\")"
   ]
  },
  {
   "cell_type": "markdown",
   "id": "e760f4f4-9225-4d22-806c-31b5e492aa8b",
   "metadata": {},
   "source": [
    "## Considerations for Optimal Number of DCs\n",
    "Factors to determine the number of DCs:\n",
    "- **Elbow Method**: Point where total weighted distance reduction slows.\n",
    "- **Cost vs. Service**: More DCs lower distance but raise costs.\n",
    "- **Geographical Coverage**: DCs should span major population regions.\n",
    "- **Infrastructure**: Availability of transport and logistics.\n",
    "- **Scalability**: Capacity for future growth."
   ]
  },
  {
   "cell_type": "markdown",
   "id": "53090e53-f0bb-4556-82c0-1845fefe34f7",
   "metadata": {},
   "source": [
    "## Multiple DC Optimization\n",
    "We use KMeans clustering with population weights on 3D coordinates. For each cluster, the DC is the city closest to the population-weighted centroid. The elbow method determines the optimal K."
   ]
  },
  {
   "cell_type": "code",
   "execution_count": 10,
   "id": "cc4c5f61",
   "metadata": {},
   "outputs": [
    {
     "data": {
      "image/png": "[encoded data removed]",
      "text/plain": [
       "<Figure size 640x480 with 1 Axes>"
      ]
     },
     "metadata": {},
     "output_type": "display_data"
    }
   ],
   "source": [
    "# Function to calculate total weighted distance for a given K\n",
    "def calculate_total_weighted_distance(k, coords, weights, df):\n",
    "    kmeans = KMeans(n_clusters=k, random_state=42)\n",
    "    df['cluster'] = kmeans.fit_predict(coords, sample_weight=weights)\n",
    "    total_weighted_distance = 0\n",
    "    for cluster in range(k):\n",
    "        cluster_df = df[df['cluster'] == cluster].copy()  # Avoid SettingWithCopyWarning\n",
    "        total_pop = cluster_df['population'].sum()\n",
    "        X_c = (cluster_df['population'] * cluster_df['X']).sum() / total_pop\n",
    "        Y_c = (cluster_df['population'] * cluster_df['Y']).sum() / total_pop\n",
    "        Z_c = (cluster_df['population'] * cluster_df['Z']).sum() / total_pop\n",
    "        lon_c = np.degrees(np.arctan2(Y_c, X_c))\n",
    "        lat_c = np.degrees(np.arcsin(Z_c))\n",
    "        cluster_df['dist_to_centroid'] = cluster_df.apply(\n",
    "            lambda row: haversine(lon_c, lat_c, row['longitude'], row['latitude']), axis=1\n",
    "        )\n",
    "        closest_city = cluster_df.loc[cluster_df['dist_to_centroid'].idxmin()]\n",
    "        cluster_df['dist_to_dc'] = cluster_df.apply(\n",
    "            lambda row: haversine(closest_city['longitude'], closest_city['latitude'], row['longitude'], row['latitude']), axis=1\n",
    "        )\n",
    "        weighted_distance = (cluster_df['population'] * cluster_df['dist_to_dc']).sum()\n",
    "        total_weighted_distance += weighted_distance\n",
    "    return total_weighted_distance\n",
    "\n",
    "# Prepare coordinates and weights\n",
    "coords = df[['X', 'Y', 'Z']].values\n",
    "weights = df['population'].values\n",
    "\n",
    "# Calculate total weighted distance for K=1 to 10\n",
    "K_range = range(1, 11)\n",
    "total_distances = []\n",
    "for k in K_range:\n",
    "    total_dist = calculate_total_weighted_distance(k, coords, weights, df)\n",
    "    total_distances.append(total_dist)\n",
    "\n",
    "# Plot elbow curve\n",
    "plt.plot(K_range, total_distances, 'bx-')\n",
    "plt.xlabel('Number of Clusters (K)')\n",
    "plt.ylabel('Total Weighted Distance (km)')\n",
    "plt.title('Elbow Method for Optimal K')\n",
    "plt.show()"
   ]
  },
  {
   "cell_type": "markdown",
   "id": "da3d77f1-8a74-473d-b023-9dbec962b26f",
   "metadata": {},
   "source": [
    "## Results for Recommended K\n",
    "Based on the elbow plot, K=5 is optimal, balancing distance reduction and practicality. Locations ensure global coverage."
   ]
  },
  {
   "cell_type": "markdown",
   "id": "7fa102df-f093-4b9b-9f19-bbb5c6ad03a1",
   "metadata": {},
   "source": [
    "## Assumptions\n",
    "- Haversine distance measures geodesic distance accurately.\n",
    "- Earth is a sphere (radius 6371 km).\n",
    "- Population data is accurate and static.\n",
    "- DCs are located at city coordinates with no capacity limits."
   ]
  },
  {
   "cell_type": "code",
   "execution_count": 12,
   "id": "a8defd61-ed39-4981-8739-3460281e6e0a",
   "metadata": {},
   "outputs": [
    {
     "name": "stdout",
     "output_type": "stream",
     "text": [
      "Optimal K: 5\n",
      "DC Locations:\n",
      "- Yichun, China\n",
      "- Esfahan, Iran\n",
      "- Campo Grande, Brazil\n",
      "- New Orleans, United States\n",
      "- Yaounde, Cameroon\n",
      "Total Weighted Distance: 4,822,347,640,365.60 km\n"
     ]
    }
   ],
   "source": [
    "# Clustering for K=5\n",
    "k_optimal = 5\n",
    "kmeans = KMeans(n_clusters=k_optimal, random_state=42)\n",
    "df['cluster'] = kmeans.fit_predict(coords, sample_weight=weights)\n",
    "\n",
    "# Assign DCs and calculate total weighted distance\n",
    "dc_locations = []\n",
    "total_weighted_distance = 0\n",
    "for cluster in range(k_optimal):\n",
    "    cluster_df = df[df['cluster'] == cluster].copy()\n",
    "    total_pop = cluster_df['population'].sum()\n",
    "    X_c = (cluster_df['population'] * cluster_df['X']).sum() / total_pop\n",
    "    Y_c = (cluster_df['population'] * cluster_df['Y']).sum() / total_pop\n",
    "    Z_c = (cluster_df['population'] * cluster_df['Z']).sum() / total_pop\n",
    "    lon_c = np.degrees(np.arctan2(Y_c, X_c))\n",
    "    lat_c = np.degrees(np.arcsin(Z_c))\n",
    "    cluster_df['dist_to_centroid'] = cluster_df.apply(\n",
    "        lambda row: haversine(lon_c, lat_c, row['longitude'], row['latitude']), axis=1\n",
    "    )\n",
    "    closest_city = cluster_df.loc[cluster_df['dist_to_centroid'].idxmin()]\n",
    "    dc_locations.append((closest_city['city'], closest_city['country']))\n",
    "    cluster_df['dist_to_dc'] = cluster_df.apply(\n",
    "        lambda row: haversine(closest_city['longitude'], closest_city['latitude'], row['longitude'], row['latitude']), axis=1\n",
    "    )\n",
    "    weighted_distance = (cluster_df['population'] * cluster_df['dist_to_dc']).sum()\n",
    "    total_weighted_distance += weighted_distance\n",
    "\n",
    "# Display results\n",
    "print(f\"Optimal K: {k_optimal}\")\n",
    "print(\"DC Locations:\")\n",
    "for city, country in dc_locations:\n",
    "    print(f\"- {city}, {country}\")\n",
    "print(f\"Total Weighted Distance: {total_weighted_distance:,.2f} km\")"
   ]
  },
  {
   "cell_type": "markdown",
   "id": "1b3cf96f-3d59-4b66-aa1f-6dc02bf0ddfb",
   "metadata": {},
   "source": [
    "## Sensitivity Analysis\n",
    "- **Varying K**:\n",
    "  - K=3: Higher distance, less coverage.\n",
    "  - K=5: Optimal balance.\n",
    "  - K=7: Minor improvement, increased complexity."
   ]
  },
  {
   "cell_type": "markdown",
   "id": "7631cda0-4ad5-463d-8402-fe7adf1c5d94",
   "metadata": {},
   "source": [
    "## Conclusion\n",
    "- **Single DC**: Narayanganj, Bangladesh minimizes distance to the global population.\n",
    "- **Multiple DCs**: K=5 is recommended, with DCs in Africa, Europe, Asia, and the Americas.\n",
    "- **Next Steps**: Incorporate cost and infrastructure analysis."
   ]
  }
 ],
 "metadata": {
  "kernelspec": {
   "display_name": "Python 3 (ipykernel)",
   "language": "python",
   "name": "python3"
  },
  "language_info": {
   "codemirror_mode": {
    "name": "ipython",
    "version": 3
   },
   "file_extension": ".py",
   "mimetype": "text/x-python",
   "name": "python",
   "nbconvert_exporter": "python",
   "pygments_lexer": "ipython3",
   "version": "3.12.9"
  }
 },
 "nbformat": 4,
 "nbformat_minor": 5
}
